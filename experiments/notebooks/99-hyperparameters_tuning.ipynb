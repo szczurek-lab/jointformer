{
 "cells": [
  {
   "cell_type": "markdown",
   "metadata": {},
   "source": [
    "# Perform hyperparameter tuning of the model."
   ]
  },
  {
   "cell_type": "code",
   "execution_count": null,
   "metadata": {},
   "outputs": [],
   "source": [
    "import os\n",
    "import json\n",
    "from functools import partial\n",
    "import optuna"
   ]
  },
  {
   "cell_type": "markdown",
   "metadata": {},
   "source": [
    "## Setup script params\n",
    "\n",
    "Only modify below cell and run rest of the notebook. \n",
    "\n",
    "Alternatively, if you have `papermill` installed, you can run the notebook with:\n",
    "\n",
    "`papermill 99-hyperparameters_tuning.ipynb out_notebook.ipynb -f hyperparameters_tuning_config.yml`\n",
    "\n",
    "from the command line, where `hyperparameters_tuning_config.yml` stores the parameters below."
   ]
  },
  {
   "cell_type": "code",
   "execution_count": null,
   "metadata": {
    "tags": [
     "parameters"
    ]
   },
   "outputs": [],
   "source": [
    "# Outputs directory\n",
    "OUTPUTS_DIR = 'hyperparam_tuning_data/hyperparam_tuning_output'\n",
    "\n",
    "# Path to hyperparameters grid in JSON format\n",
    "HYPERPARAMETERS_GRID_FILEPATH = 'hyperparam_tuning_data/example_hyperparameters_grid.json'\n",
    "\n",
    "# Here, setup fixed hyperparams for your training-evaluation procedure - single Optuna trial. Example hyperparams below\n",
    "NUM_FOLDS = 5\n",
    "NUM_EPOCHS = 10\n",
    "BATCH_SIZE = 4\n",
    "CROSS_VAL_VAL_SIZE = 0.2\n",
    "NUM_WORKERS = 1\n",
    "ACCELERATOR = \"cpu\"   # \"gpu\" or \"tpu\"\n",
    "\n",
    "# Setup hyperparams corresponding to actual model's hyperparameters search\n",
    "# Hyperparams for hyperparameter tuning\n",
    "OPTUNA_METRIC_DIRECTION = 'minimize'   # 'minimize' or 'maximize'\n",
    "OPTUNA_N_TRIALS = 2   # Number of trials to run\n",
    "OPTUNA_N_JOBS = 1   # Number of parallel jobs\n",
    "OPTUNA_SEED = 42"
   ]
  },
  {
   "cell_type": "markdown",
   "metadata": {},
   "source": [
    "## Utils"
   ]
  },
  {
   "cell_type": "code",
   "execution_count": null,
   "metadata": {},
   "outputs": [],
   "source": [
    "def get_hparam_search_space(trial, hyperparameters_grid):\n",
    "    \"\"\"\n",
    "    Generates a hyperparameter search space for a given trial.\n",
    "\n",
    "    Args:\n",
    "        trial (optuna.trial.Trial): The trial for which to generate the search space.\n",
    "        hyperparameters_grid (dict): A dictionary defining the hyperparameters and their possible values.\n",
    "\n",
    "    Returns:\n",
    "        dict: A dictionary containing the hyperparameters and their suggested values for the trial.\n",
    "    \"\"\"\n",
    "    hyperparams = {}\n",
    "    for hp_name, hp_params in hyperparameters_grid.items():\n",
    "        if hp_params['type'] == 'int':\n",
    "            hyperparams[hp_name] = trial.suggest_int(hp_name, hp_params['low'], hp_params['high'])\n",
    "        elif hp_params['type'] == 'categorical':\n",
    "            hyperparams[hp_name] = trial.suggest_categorical(hp_name, hp_params['choices'])\n",
    "        elif hp_params['type'] == 'float':\n",
    "            hyperparams[hp_name] = trial.suggest_float(hp_name, hp_params['low'], hp_params['high'])\n",
    "    return hyperparams\n",
    "\n",
    "def load_json(file_path):\n",
    "    \"\"\"\n",
    "    Loads a JSON file.\n",
    "\n",
    "    Args:\n",
    "        file_path (str): The path to the JSON file.\n",
    "\n",
    "    Returns:\n",
    "        dict: The loaded JSON file.\n",
    "    \"\"\"\n",
    "    with open(file_path, 'r') as f:\n",
    "        return json.load(f)\n",
    "    \n",
    "def save_json(file_path, data):\n",
    "    \"\"\"\n",
    "    Saves a dictionary to a JSON file.\n",
    "\n",
    "    Args:\n",
    "        file_path (str): The path to the JSON file.\n",
    "        data (dict): The dictionary to save.\n",
    "    \"\"\"\n",
    "    with open(file_path, 'w') as f:\n",
    "        json.dump(data, f)"
   ]
  },
  {
   "cell_type": "markdown",
   "metadata": {},
   "source": [
    "## Load data"
   ]
  },
  {
   "cell_type": "code",
   "execution_count": null,
   "metadata": {},
   "outputs": [],
   "source": [
    "# Load hyperparameters grid\n",
    "hyperparameters_grid = load_json(HYPERPARAMETERS_GRID_FILEPATH)"
   ]
  },
  {
   "cell_type": "markdown",
   "metadata": {},
   "source": [
    "Hyperparameters grid is a dictionary with parameter names as keys and dictionaries as values. For every hyperparameter, a dictionary has to have the following fields:\n",
    "\n",
    "- type ('int', 'float' or 'categorical')\n",
    "- if int or float, another fields are:\n",
    "    - 'low' (int or float): lower threshold on param's values\n",
    "    - 'high' (int or float): upper threshold on param's values\n",
    "    - 'step': (int or float): a step fo discretization (optional)\n",
    "    - 'log' (bool): a flag to sample the value from the log domain or not (optional)\n",
    "\n",
    "- if 'categorical', another fields are:\n",
    "    - 'choices' (list): possible parms values\n",
    "\n",
    "See https://optuna.readthedocs.io/en/stable/reference/generated/optuna.trial.Trial.html for reference.\n",
    "\n",
    "See `get_hparam_search_space` function above to see how this dictionary is converted to Optuna format."
   ]
  },
  {
   "cell_type": "code",
   "execution_count": null,
   "metadata": {},
   "outputs": [],
   "source": [
    "# View the loaded hyperparameters grid\n",
    "for k, v in hyperparameters_grid.items():\n",
    "    print(f'{k}: {v}')"
   ]
  },
  {
   "cell_type": "markdown",
   "metadata": {},
   "source": [
    "## Code needed for running the trial..\n",
    "\n",
    "Here, you can establish code and variables which are common for all the trials, e.g. load data, datasets and dataloaders, load model etc. You can also do it later in the actual trial function which is needed by Optuna."
   ]
  },
  {
   "cell_type": "code",
   "execution_count": null,
   "metadata": {},
   "outputs": [],
   "source": [
    "# Your code here\n",
    "..."
   ]
  },
  {
   "cell_type": "markdown",
   "metadata": {},
   "source": [
    "## Optuna objective function"
   ]
  },
  {
   "cell_type": "markdown",
   "metadata": {},
   "source": [
    "Opuna requires an objective function to be defined, i.e. a function which takes a Trial object as an argument (could be along with some other arguments) and performs a single trial with a combination of hyperparams. The function returns a metric to be optimized. We will create a function which takes in a model and a hyperparameter grid as additional arguments."
   ]
  },
  {
   "cell_type": "code",
   "execution_count": null,
   "metadata": {},
   "outputs": [],
   "source": [
    "def model_objective(trial, hyperparameters_grid):\n",
    "    \"\"\"\n",
    "    Objective function for Optuna to optimize.\n",
    "\n",
    "    Args:\n",
    "        trial (optuna.trial.Trial): The trial for which to generate the search space.\n",
    "\n",
    "    Returns:\n",
    "        float: The value of the objective function.\n",
    "    \"\"\"\n",
    "    # Generate hyperparameters for the trial\n",
    "    hyperparams = get_hparam_search_space(trial, hyperparameters_grid)\n",
    "\n",
    "    # Example of how to access hyperparameters\n",
    "    current_learning_rate = hyperparams['learning_rate']\n",
    "\n",
    "    # Your code here - you need to have some objective value at the end\n",
    "    ...\n",
    "\n",
    "    # Example outcome - should be effect of your code above\n",
    "    objective_value = -1\n",
    "    example_variable = \"test\"\n",
    "\n",
    "    # Example how you can record a user-defined variable fot this trial\n",
    "    trial.set_user_attr(\"example_variable\", example_variable)   # This is just an example, optuna records the parameters automatically\n",
    "\n",
    "    return objective_value"
   ]
  },
  {
   "cell_type": "markdown",
   "metadata": {},
   "source": [
    "## Perform hyperparam tuning"
   ]
  },
  {
   "cell_type": "code",
   "execution_count": null,
   "metadata": {},
   "outputs": [],
   "source": [
    "if not os.path.exists(OUTPUTS_DIR):\n",
    "    os.makedirs(OUTPUTS_DIR)\n",
    "\n",
    "# Create actual objective function using partial - pass in the hyperparameters grid\n",
    "objective_func = partial(model_objective, hyperparameters_grid=hyperparameters_grid)\n",
    "\n",
    "# Create a study object\n",
    "study = optuna.create_study(direction=OPTUNA_METRIC_DIRECTION, \n",
    "                            sampler=optuna.samplers.TPESampler(seed=OPTUNA_SEED))   # Default sampler is TPESampler, providing seed for reproducibility\n",
    "\n",
    "# Start the hyperparameter tuning\n",
    "study.optimize(objective_func, n_trials=OPTUNA_N_TRIALS, n_jobs=OPTUNA_N_JOBS)\n",
    "study_df = study.trials_dataframe()\n",
    "\n",
    "# Save study dataframe\n",
    "study_df.to_csv(os.path.join(OUTPUTS_DIR, \"study_results.csv\"), index=False)\n",
    "# Save best params\n",
    "save_json(os.path.join(OUTPUTS_DIR, \"best_params.json\"), study.best_params)"
   ]
  }
 ],
 "metadata": {
  "kernelspec": {
   "display_name": "Python 3",
   "language": "python",
   "name": "python3"
  },
  "language_info": {
   "codemirror_mode": {
    "name": "ipython",
    "version": 3
   },
   "file_extension": ".py",
   "mimetype": "text/x-python",
   "name": "python",
   "nbconvert_exporter": "python",
   "pygments_lexer": "ipython3",
   "version": "3.11.9"
  }
 },
 "nbformat": 4,
 "nbformat_minor": 2
}
